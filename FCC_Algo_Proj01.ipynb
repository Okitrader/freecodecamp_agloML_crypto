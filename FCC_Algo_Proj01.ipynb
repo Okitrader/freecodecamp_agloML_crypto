{
  "nbformat": 4,
  "nbformat_minor": 0,
  "metadata": {
    "colab": {
      "provenance": [],
      "authorship_tag": "ABX9TyMPRIBidgBBh0/iKIK6GmdX",
      "include_colab_link": true
    },
    "kernelspec": {
      "name": "python3",
      "display_name": "Python 3"
    },
    "language_info": {
      "name": "python"
    }
  },
  "cells": [
    {
      "cell_type": "markdown",
      "metadata": {
        "id": "view-in-github",
        "colab_type": "text"
      },
      "source": [
        "<a href=\"https://colab.research.google.com/github/Okitrader/freecodecamp_agloML_crypto/blob/main/FCC_Algo_Proj01.ipynb\" target=\"_parent\"><img src=\"https://colab.research.google.com/assets/colab-badge.svg\" alt=\"Open In Colab\"/></a>"
      ]
    },
    {
      "cell_type": "markdown",
      "source": [
        "All Packages Needed:\n",
        "pandas, numpy, matplotlib, statsmodels, pandas_datareader, datetime, yfinance, sklearn, PyPortfolioOpt"
      ],
      "metadata": {
        "id": "yzE7SVN9l2WB"
      }
    },
    {
      "cell_type": "code",
      "source": [
        "!pip install pandas warnings pandas_ta numpy matplotlib statsmodels pandas-datareader datetime yfinance scikit-learn PyPortfolioOpt\n"
      ],
      "metadata": {
        "colab": {
          "base_uri": "https://localhost:8080/"
        },
        "id": "Hm54DduKmDFs",
        "outputId": "e2a8b63a-7943-43a8-e812-ad83cf539492"
      },
      "execution_count": 1,
      "outputs": [
        {
          "output_type": "stream",
          "name": "stdout",
          "text": [
            "Requirement already satisfied: pandas in /usr/local/lib/python3.10/dist-packages (1.5.3)\n",
            "\u001b[31mERROR: Could not find a version that satisfies the requirement warnings (from versions: none)\u001b[0m\u001b[31m\n",
            "\u001b[0m\u001b[31mERROR: No matching distribution found for warnings\u001b[0m\u001b[31m\n",
            "\u001b[0m"
          ]
        }
      ]
    },
    {
      "cell_type": "code",
      "source": [
        "!pip install pandas_ta requests tqdm"
      ],
      "metadata": {
        "colab": {
          "base_uri": "https://localhost:8080/"
        },
        "id": "I9GiNC513nKW",
        "outputId": "911cc5ad-04c7-476e-f387-b9741da0a731"
      },
      "execution_count": 2,
      "outputs": [
        {
          "output_type": "stream",
          "name": "stdout",
          "text": [
            "Collecting pandas_ta\n",
            "  Downloading pandas_ta-0.3.14b.tar.gz (115 kB)\n",
            "\u001b[?25l     \u001b[90m━━━━━━━━━━━━━━━━━━━━━━━━━━━━━━━━━━━━━━━━\u001b[0m \u001b[32m0.0/115.1 kB\u001b[0m \u001b[31m?\u001b[0m eta \u001b[36m-:--:--\u001b[0m\r\u001b[2K     \u001b[90m━━━━━━━━━━━━━━━━━━━━━━━━━━━━━━━━━━━━━━━━\u001b[0m \u001b[32m115.1/115.1 kB\u001b[0m \u001b[31m3.4 MB/s\u001b[0m eta \u001b[36m0:00:00\u001b[0m\n",
            "\u001b[?25h  Preparing metadata (setup.py) ... \u001b[?25l\u001b[?25hdone\n",
            "Requirement already satisfied: requests in /usr/local/lib/python3.10/dist-packages (2.31.0)\n",
            "Requirement already satisfied: tqdm in /usr/local/lib/python3.10/dist-packages (4.66.1)\n",
            "Requirement already satisfied: pandas in /usr/local/lib/python3.10/dist-packages (from pandas_ta) (1.5.3)\n",
            "Requirement already satisfied: charset-normalizer<4,>=2 in /usr/local/lib/python3.10/dist-packages (from requests) (3.3.2)\n",
            "Requirement already satisfied: idna<4,>=2.5 in /usr/local/lib/python3.10/dist-packages (from requests) (3.4)\n",
            "Requirement already satisfied: urllib3<3,>=1.21.1 in /usr/local/lib/python3.10/dist-packages (from requests) (2.0.7)\n",
            "Requirement already satisfied: certifi>=2017.4.17 in /usr/local/lib/python3.10/dist-packages (from requests) (2023.7.22)\n",
            "Requirement already satisfied: python-dateutil>=2.8.1 in /usr/local/lib/python3.10/dist-packages (from pandas->pandas_ta) (2.8.2)\n",
            "Requirement already satisfied: pytz>=2020.1 in /usr/local/lib/python3.10/dist-packages (from pandas->pandas_ta) (2023.3.post1)\n",
            "Requirement already satisfied: numpy>=1.21.0 in /usr/local/lib/python3.10/dist-packages (from pandas->pandas_ta) (1.23.5)\n",
            "Requirement already satisfied: six>=1.5 in /usr/local/lib/python3.10/dist-packages (from python-dateutil>=2.8.1->pandas->pandas_ta) (1.16.0)\n",
            "Building wheels for collected packages: pandas_ta\n",
            "  Building wheel for pandas_ta (setup.py) ... \u001b[?25l\u001b[?25hdone\n",
            "  Created wheel for pandas_ta: filename=pandas_ta-0.3.14b0-py3-none-any.whl size=218907 sha256=a0f32349446d1cb19492fb0108f16ea26c288b345b415b79595a4ab6effd483a\n",
            "  Stored in directory: /root/.cache/pip/wheels/69/00/ac/f7fa862c34b0e2ef320175100c233377b4c558944f12474cf0\n",
            "Successfully built pandas_ta\n",
            "Installing collected packages: pandas_ta\n",
            "Successfully installed pandas_ta-0.3.14b0\n"
          ]
        }
      ]
    },
    {
      "cell_type": "code",
      "source": [
        "from statsmodels.regression.rolling import RollingOLS\n",
        "import pandas_datareader.data as web\n",
        "import matplotlib.pyplot as plt\n",
        "import statsmodels.api as sm\n",
        "import pandas as pd\n",
        "import numpy as np\n",
        "import datetime as dt\n",
        "import pandas_ta\n",
        "import warnings\n",
        "warnings.filterwarnings('ignore')\n"
      ],
      "metadata": {
        "id": "NUPPw91um0Jc"
      },
      "execution_count": 3,
      "outputs": []
    },
    {
      "cell_type": "markdown",
      "source": [
        "## Create a list of top Cryptos Ranked by Coinmarket Cap."
      ],
      "metadata": {
        "id": "e8L3WSMFOQIr"
      }
    },
    {
      "cell_type": "code",
      "source": [
        "# Import necessary libraries\n",
        "import requests\n",
        "import pandas as pd\n",
        "from google.colab import userdata\n",
        "\n",
        "# Retrieve API key from Colab user data\n",
        "api_key = userdata.get('CMCKey')\n",
        "\n",
        "if api_key is None:\n",
        "    print(\"API key not found. Please check that the secret name is correct and that the notebook has access to it.\")\n",
        "else:\n",
        "    print(\"API key retrieved successfully.\")\n",
        "\n",
        "# Set the limit for the number of cryptocurrencies to retrieve\n",
        "TOP_CRYPTO_LIMIT = 125  # Change this number to fetch a different number of top cryptocurrencies\n",
        "\n",
        "# CoinMarketCap API URL and parameters\n",
        "url = 'https://pro-api.coinmarketcap.com/v1/cryptocurrency/listings/latest'\n",
        "parameters = {\n",
        "    'start': '1',\n",
        "    'limit': str(TOP_CRYPTO_LIMIT),  # Convert the limit to a string to use in the parameters\n",
        "    'convert': 'USD'\n",
        "}\n",
        "headers = {\n",
        "    'Accepts': 'application/json',\n",
        "    'X-CMC_PRO_API_KEY': api_key,\n",
        "}\n",
        "\n",
        "# Make the API request\n",
        "try:\n",
        "    response = requests.get(url, headers=headers, params=parameters)\n",
        "    response.raise_for_status()  # Will raise an HTTPError if the HTTP request returned an unsuccessful status code\n",
        "    data = response.json()\n",
        "\n",
        "    # Parse the data to extract 'cmc_rank' and 'symbol'\n",
        "    cryptos = [{'cmc_rank': entry['cmc_rank'], 'symbol': entry['symbol']} for entry in data['data']]\n",
        "\n",
        "    # Create DataFrame and name it top_cryptos (renamed to reflect the variable limit)\n",
        "    top_cryptos = pd.DataFrame(cryptos)\n",
        "\n",
        "    # Verify that the ranks are within the top limit set\n",
        "    if top_cryptos['cmc_rank'].max() <= TOP_CRYPTO_LIMIT and top_cryptos['cmc_rank'].min() >= 1:\n",
        "        print(f\"Successfully retrieved top {TOP_CRYPTO_LIMIT} cryptocurrencies by cmc_rank.\")\n",
        "    else:\n",
        "        print(f\"Some cryptocurrencies may not be in the top {TOP_CRYPTO_LIMIT} by cmc_rank.\")\n",
        "\n",
        "    # Display the DataFrame\n",
        "    print(top_cryptos.head())\n",
        "    print(top_cryptos.tail())\n",
        "except requests.exceptions.HTTPError as errh:\n",
        "    print(\"Http Error:\", errh)\n",
        "except requests.exceptions.ConnectionError as errc:\n",
        "    print(\"Error Connecting:\", errc)\n",
        "except requests.exceptions.Timeout as errt:\n",
        "    print(\"Timeout Error:\", errt)\n",
        "except requests.exceptions.RequestException as err:\n",
        "    print(\"Oops: Something Else\", err)"
      ],
      "metadata": {
        "colab": {
          "base_uri": "https://localhost:8080/"
        },
        "id": "hKqaYXJOJfq_",
        "outputId": "ae12b885-7871-40da-db4c-7a85b4a3901c"
      },
      "execution_count": 5,
      "outputs": [
        {
          "output_type": "stream",
          "name": "stdout",
          "text": [
            "API key retrieved successfully.\n",
            "Successfully retrieved top 125 cryptocurrencies by cmc_rank.\n",
            "   cmc_rank symbol\n",
            "0         1    BTC\n",
            "1         2    ETH\n",
            "2         3   USDT\n",
            "3         4    BNB\n",
            "4         5    XRP\n",
            "     cmc_rank symbol\n",
            "120       121    CVX\n",
            "121       122    SFP\n",
            "122       123  TFUEL\n",
            "123       124    HNT\n",
            "124       125    JST\n"
          ]
        }
      ]
    },
    {
      "cell_type": "markdown",
      "source": [
        "## Next we create a Dataframe for our OHLCV\n",
        "we are not using adjusted close as in the video examples, hence our formulas will have to change with our version"
      ],
      "metadata": {
        "id": "IpGd4_IxTa63"
      }
    },
    {
      "cell_type": "code",
      "source": [
        "from tqdm import tqdm\n",
        "import pprint as pp\n",
        "import datetime\n",
        "pd.set_option('display.max_columns', None)\n",
        "from google.colab import userdata # Ensure this contains your CoinMarketCap API key\n",
        "\n",
        "# Retrieve API key from Colab user data\n",
        "api_key = userdata.get('CMCKey')\n",
        "\n",
        "# Function to fetch and process historical cryptocurrency data for each symbol\n",
        "def fetch_historical_crypto_data(start_date=None, end_date=None, days_back=29):\n",
        "    # Default to current date if end_date is not specified\n",
        "    if end_date is None:\n",
        "        end_date = datetime.datetime.now()\n",
        "\n",
        "    # Default to 29 days back if start_date is not specified\n",
        "    if start_date is None:\n",
        "        start_date = end_date - datetime.timedelta(days=days_back)\n",
        "\n",
        "    # Convert dates to string format if they are datetime objects\n",
        "    if isinstance(start_date, datetime.datetime):\n",
        "        start_date = start_date.strftime('%Y-%m-%d')\n",
        "    if isinstance(end_date, datetime.datetime):\n",
        "        end_date = end_date.strftime('%Y-%m-%d')\n",
        "\n",
        "    base_url = 'https://pro-api.coinmarketcap.com/v2/cryptocurrency/ohlcv/historical'\n",
        "    headers = {\n",
        "        'Accepts': 'application/json',\n",
        "        'X-CMC_PRO_API_KEY': api_key,\n",
        "    }\n",
        "    all_data = []\n",
        "\n",
        "    # Using tqdm for progress display\n",
        "    for symbol in tqdm(top_cryptos['symbol'], desc=\"Processing\", unit=\"symbol\"):\n",
        "        url = f'{base_url}?symbol={symbol}'\n",
        "        parameters = {\n",
        "            'time_start': start_date,\n",
        "            'time_end': end_date,\n",
        "            'convert': 'USD'\n",
        "        }\n",
        "\n",
        "        try:\n",
        "            response = requests.get(url, headers=headers, params=parameters)\n",
        "            data = response.json()\n",
        "\n",
        "            # Extract and flatten the quotes data\n",
        "            quotes = data.get('data', {}).get(symbol, [])\n",
        "            for quote in quotes:\n",
        "                for q in quote.get('quotes', []):\n",
        "                    usd_data = q['quote']['USD']\n",
        "                    entry = {\n",
        "                        'symbol': symbol,\n",
        "                        'timestamp': usd_data['timestamp'],\n",
        "                        'open': usd_data['open'],\n",
        "                        'high': usd_data['high'],\n",
        "                        'low': usd_data['low'],\n",
        "                        'close': usd_data['close'],\n",
        "                        'volume': usd_data['volume']\n",
        "                    }\n",
        "                    all_data.append(entry)\n",
        "\n",
        "        except requests.exceptions.RequestException as e:\n",
        "            print(f\"Error fetching data for {symbol}: {e}\")\n",
        "\n",
        "    # Convert all_data to a DataFrame\n",
        "    top_OHLCV = pd.DataFrame(all_data)\n",
        "\n",
        "    # Set the index to a MultiIndex of 'timestamp' and 'symbol'\n",
        "    top_OHLCV.set_index(['timestamp', 'symbol'], inplace=True)\n",
        "\n",
        "    # Ensure the column names are lowercase\n",
        "    top_OHLCV.columns = top_OHLCV.columns.str.lower()\n",
        "\n",
        "    # Round the volume column to 4 decimal places\n",
        "    top_OHLCV['volume'] = top_OHLCV['volume'].round(6)\n",
        "\n",
        "    # Return the final DataFrame\n",
        "    return top_OHLCV\n",
        "\n",
        "# Fetching data\n",
        "top_OHLCV = fetch_historical_crypto_data()\n",
        "\n",
        "# Print the data using pretty print\n",
        "pp.pprint(top_OHLCV.head())\n",
        "pp.pprint(top_OHLCV.tail())"
      ],
      "metadata": {
        "id": "C_kjyjz9PBXq",
        "colab": {
          "base_uri": "https://localhost:8080/"
        },
        "outputId": "1860b8c1-a84b-4e42-cc9c-dadbd8a4c69c"
      },
      "execution_count": 7,
      "outputs": [
        {
          "output_type": "stream",
          "name": "stderr",
          "text": [
            "Processing: 100%|██████████| 125/125 [00:41<00:00,  2.99symbol/s]"
          ]
        },
        {
          "output_type": "stream",
          "name": "stdout",
          "text": [
            "                                         open          high           low  \\\n",
            "timestamp                symbol                                             \n",
            "2023-10-14T23:59:59.999Z BTC     26866.203245  26968.999218  26814.586586   \n",
            "2023-10-15T23:59:59.999Z BTC     26858.011726  27289.170319  26817.894010   \n",
            "2023-10-16T23:59:59.999Z BTC     27162.628229  29448.139037  27130.473478   \n",
            "2023-10-17T23:59:59.999Z BTC     28522.098166  28618.752390  28110.186117   \n",
            "2023-10-18T23:59:59.999Z BTC     28413.530808  28889.009589  28174.252551   \n",
            "\n",
            "                                        close        volume  \n",
            "timestamp                symbol                              \n",
            "2023-10-14T23:59:59.999Z BTC     26861.706203  5.388117e+09  \n",
            "2023-10-15T23:59:59.999Z BTC     27159.652919  7.098202e+09  \n",
            "2023-10-16T23:59:59.999Z BTC     28519.466679  2.783388e+10  \n",
            "2023-10-17T23:59:59.999Z BTC     28415.748140  1.487253e+10  \n",
            "2023-10-18T23:59:59.999Z BTC     28328.341152  1.272413e+10  \n",
            "                                     open      high       low     close  \\\n",
            "timestamp                symbol                                           \n",
            "2023-11-06T23:59:59.999Z FIL     4.116601  4.379466  4.074109  4.336670   \n",
            "2023-11-07T23:59:59.999Z FIL     4.336750  4.343247  4.094123  4.243912   \n",
            "2023-11-08T23:59:59.999Z FIL     4.243969  4.466300  4.223579  4.445552   \n",
            "2023-11-09T23:59:59.999Z FIL     4.444945  4.680075  4.261902  4.495716   \n",
            "2023-11-10T23:59:59.999Z FIL     4.496287  4.637106  4.385732  4.587491   \n",
            "\n",
            "                                       volume  \n",
            "timestamp                symbol                \n",
            "2023-11-06T23:59:59.999Z FIL     1.589070e+08  \n",
            "2023-11-07T23:59:59.999Z FIL     1.584706e+08  \n",
            "2023-11-08T23:59:59.999Z FIL     1.253345e+08  \n",
            "2023-11-09T23:59:59.999Z FIL     2.588597e+08  \n",
            "2023-11-10T23:59:59.999Z FIL     1.783285e+08  \n"
          ]
        },
        {
          "output_type": "stream",
          "name": "stderr",
          "text": [
            "\n"
          ]
        }
      ]
    },
    {
      "cell_type": "code",
      "source": [],
      "metadata": {
        "id": "EsFVi2rAUSuP"
      },
      "execution_count": null,
      "outputs": []
    }
  ]
}